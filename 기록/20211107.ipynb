{
  "nbformat": 4,
  "nbformat_minor": 0,
  "metadata": {
    "colab": {
      "name": "20211107.ipynb",
      "provenance": [],
      "collapsed_sections": []
    },
    "kernelspec": {
      "name": "python3",
      "display_name": "Python 3"
    },
    "language_info": {
      "name": "python"
    }
  },
  "cells": [
    {
      "cell_type": "markdown",
      "metadata": {
        "id": "-iKFMSveYU6n"
      },
      "source": [
        "## 타입 힌트"
      ]
    },
    {
      "cell_type": "markdown",
      "metadata": {
        "id": "gVxVr3BMYhNl"
      },
      "source": [
        "파이썬도 타입 힌트로 타입을 지정 할 수 있다. (version 3.5이상)"
      ]
    },
    {
      "cell_type": "code",
      "metadata": {
        "id": "KJ69nJ_PYR5Y"
      },
      "source": [
        "# ex\n",
        "a: str = \"1\"\n",
        "b: int = 1"
      ],
      "execution_count": 1,
      "outputs": []
    },
    {
      "cell_type": "markdown",
      "metadata": {
        "id": "yWLoMraUY-OU"
      },
      "source": [
        "타입 힌트를 사용하여 명시적으로 선언하면 가독성이 좋아지고 버그를 줄일 수 있다."
      ]
    },
    {
      "cell_type": "code",
      "metadata": {
        "id": "nKCzDIAZYb2v"
      },
      "source": [
        "def function(a: int) -> int:\n",
        "  return a+1"
      ],
      "execution_count": 3,
      "outputs": []
    },
    {
      "cell_type": "markdown",
      "metadata": {
        "id": "WQJDb5g7ZK4z"
      },
      "source": [
        "**(주의)** 여전히 동적으로 할당 될 수 있다."
      ]
    },
    {
      "cell_type": "markdown",
      "metadata": {
        "id": "9bRCWu-GZawK"
      },
      "source": [
        "mypy를 사용하여 타입 힌트에 오류가 없는지 확인 할 수 있다."
      ]
    },
    {
      "cell_type": "code",
      "metadata": {
        "id": "-PljifKbYf93"
      },
      "source": [
        "# pip install mypy\n",
        "# mypy solution.py"
      ],
      "execution_count": 5,
      "outputs": []
    },
    {
      "cell_type": "markdown",
      "metadata": {
        "id": "aj6YzLbvZlsS"
      },
      "source": [
        "## 리스트 컴프리헨션"
      ]
    },
    {
      "cell_type": "markdown",
      "metadata": {
        "id": "X59DkLwOZwQT"
      },
      "source": [
        "기존 리스트를 기반으로 새로운 리스트를 만들어내는 구문"
      ]
    },
    {
      "cell_type": "code",
      "metadata": {
        "colab": {
          "base_uri": "https://localhost:8080/"
        },
        "id": "GfB_ThpqY5-8",
        "outputId": "0129cc8b-b05c-4cac-f72a-229850a227b9"
      },
      "source": [
        "[i*i for i in range(10) if i%2 == 0]"
      ],
      "execution_count": 6,
      "outputs": [
        {
          "output_type": "execute_result",
          "data": {
            "text/plain": [
              "[0, 4, 16, 36, 64]"
            ]
          },
          "metadata": {},
          "execution_count": 6
        }
      ]
    },
    {
      "cell_type": "markdown",
      "metadata": {
        "id": "T-hEc8LEaCeK"
      },
      "source": [
        "딕셔너리도 가능"
      ]
    },
    {
      "cell_type": "code",
      "metadata": {
        "colab": {
          "base_uri": "https://localhost:8080/"
        },
        "id": "EP4eEEH3aARW",
        "outputId": "f3d95227-baa6-4c43-9a6b-357bac8a2d4e"
      },
      "source": [
        "origin = {'a':100, 'b':200, 'c':300}\n",
        "new = {key: value for key, value in origin.items() if key == 'a' or key == 'c'}\n",
        "new"
      ],
      "execution_count": 12,
      "outputs": [
        {
          "output_type": "execute_result",
          "data": {
            "text/plain": [
              "{'a': 100, 'c': 300}"
            ]
          },
          "metadata": {},
          "execution_count": 12
        }
      ]
    },
    {
      "cell_type": "markdown",
      "metadata": {
        "id": "q5AE3rpWa3DN"
      },
      "source": [
        "## 제너레이터(Generator)"
      ]
    },
    {
      "cell_type": "markdown",
      "metadata": {
        "id": "Of3wBFrBa_ao"
      },
      "source": [
        "루프의 반복 동작을 제어할 수 있는 루틴 형태"
      ]
    },
    {
      "cell_type": "markdown",
      "metadata": {
        "id": "8o3uo3XGbM64"
      },
      "source": [
        "`yield` 구문을 사용하여 제너레이터를 리턴"
      ]
    },
    {
      "cell_type": "code",
      "metadata": {
        "id": "Vfk9jiDGa7xT"
      },
      "source": [
        "def get_natural_number():\n",
        "  n = 0\n",
        "  while True:\n",
        "    n+=1\n",
        "    yield n"
      ],
      "execution_count": 14,
      "outputs": []
    },
    {
      "cell_type": "code",
      "metadata": {
        "colab": {
          "base_uri": "https://localhost:8080/"
        },
        "id": "Mw2abY1PbZm5",
        "outputId": "8ba7c2eb-e112-429c-902d-cc1aab5078fe"
      },
      "source": [
        "get_natural_number()"
      ],
      "execution_count": 16,
      "outputs": [
        {
          "output_type": "execute_result",
          "data": {
            "text/plain": [
              "<generator object get_natural_number at 0x7f566af76ed0>"
            ]
          },
          "metadata": {},
          "execution_count": 16
        }
      ]
    },
    {
      "cell_type": "markdown",
      "metadata": {
        "id": "ZSPPCECFb-TA"
      },
      "source": [
        "next() 로 추출"
      ]
    },
    {
      "cell_type": "code",
      "metadata": {
        "id": "2T8BSoD9bcMW"
      },
      "source": [
        "g = get_natural_number()\n",
        "for _ in range(100):\n",
        "  print(next(g))"
      ],
      "execution_count": null,
      "outputs": []
    },
    {
      "cell_type": "code",
      "metadata": {
        "colab": {
          "base_uri": "https://localhost:8080/"
        },
        "id": "WUfH9RtnbtLE",
        "outputId": "9c530533-6b6a-4be0-a6aa-74b4752b5d31"
      },
      "source": [
        "def generator():\n",
        "  yield 1\n",
        "  yield 'string'\n",
        "  yield True\n",
        "\n",
        "g = generator()\n",
        "g"
      ],
      "execution_count": 19,
      "outputs": [
        {
          "output_type": "execute_result",
          "data": {
            "text/plain": [
              "<generator object generator at 0x7f566af92dd0>"
            ]
          },
          "metadata": {},
          "execution_count": 19
        }
      ]
    },
    {
      "cell_type": "code",
      "metadata": {
        "colab": {
          "base_uri": "https://localhost:8080/"
        },
        "id": "f1pWomm4b3i2",
        "outputId": "c6ae1669-34e8-48d0-f6a8-b082d11ff05d"
      },
      "source": [
        "next(g)"
      ],
      "execution_count": 20,
      "outputs": [
        {
          "output_type": "execute_result",
          "data": {
            "text/plain": [
              "1"
            ]
          },
          "metadata": {},
          "execution_count": 20
        }
      ]
    },
    {
      "cell_type": "code",
      "metadata": {
        "colab": {
          "base_uri": "https://localhost:8080/",
          "height": 35
        },
        "id": "GCVjTRqRb4Zd",
        "outputId": "60097a63-7b87-4c7b-cd03-57c54f18a416"
      },
      "source": [
        "next(g)"
      ],
      "execution_count": 21,
      "outputs": [
        {
          "output_type": "execute_result",
          "data": {
            "application/vnd.google.colaboratory.intrinsic+json": {
              "type": "string"
            },
            "text/plain": [
              "'string'"
            ]
          },
          "metadata": {},
          "execution_count": 21
        }
      ]
    },
    {
      "cell_type": "code",
      "metadata": {
        "colab": {
          "base_uri": "https://localhost:8080/"
        },
        "id": "VmXrs4HAb5KD",
        "outputId": "87171857-42e1-49a3-ce44-6f11db31346c"
      },
      "source": [
        "next(g)"
      ],
      "execution_count": 22,
      "outputs": [
        {
          "output_type": "execute_result",
          "data": {
            "text/plain": [
              "True"
            ]
          },
          "metadata": {},
          "execution_count": 22
        }
      ]
    },
    {
      "cell_type": "markdown",
      "metadata": {
        "id": "NpPu8yXmcFgC"
      },
      "source": [
        "## range"
      ]
    },
    {
      "cell_type": "markdown",
      "metadata": {
        "id": "zInqlOq_cHxg"
      },
      "source": [
        "제너레이터 방식을 활용하는 대표적 함수"
      ]
    },
    {
      "cell_type": "code",
      "metadata": {
        "colab": {
          "base_uri": "https://localhost:8080/"
        },
        "id": "4VvxRcfDb51b",
        "outputId": "9012fe7b-bb2e-4d07-e21f-6226fb9ea60a"
      },
      "source": [
        "list(range(5))"
      ],
      "execution_count": 23,
      "outputs": [
        {
          "output_type": "execute_result",
          "data": {
            "text/plain": [
              "[0, 1, 2, 3, 4]"
            ]
          },
          "metadata": {},
          "execution_count": 23
        }
      ]
    },
    {
      "cell_type": "code",
      "metadata": {
        "colab": {
          "base_uri": "https://localhost:8080/"
        },
        "id": "M4s5PUJXcgz7",
        "outputId": "8f861ad4-b52f-488d-86e7-9436e997e31b"
      },
      "source": [
        "for i in range(5):\n",
        "  print(i, end=\" \")"
      ],
      "execution_count": 24,
      "outputs": [
        {
          "output_type": "stream",
          "name": "stdout",
          "text": [
            "0 1 2 3 4 "
          ]
        }
      ]
    },
    {
      "cell_type": "code",
      "metadata": {
        "colab": {
          "base_uri": "https://localhost:8080/"
        },
        "id": "zR6zyiBld8ta",
        "outputId": "cfb09b03-ce3e-4668-ce28-1fd575c330ad"
      },
      "source": [
        "import sys\n",
        "a = [n for n in range(1000000)]\n",
        "b = range(1000000)\n",
        "print(sys.getsizeof(a))\n",
        "print(sys.getsizeof(b))"
      ],
      "execution_count": 6,
      "outputs": [
        {
          "output_type": "stream",
          "name": "stdout",
          "text": [
            "8697472\n",
            "48\n"
          ]
        }
      ]
    },
    {
      "cell_type": "markdown",
      "metadata": {
        "id": "dWr4pdvxcx0u"
      },
      "source": [
        "range()는 range클래스를 리턴한다.  \n",
        "for문에서 사용하면 내부적으로는 제너레이터의 next()함수를 호출하듯 매번 다음 숫자를 생성해낸다."
      ]
    },
    {
      "cell_type": "markdown",
      "metadata": {
        "id": "NkbQ9wRAdn0U"
      },
      "source": [
        "> 생성 조건만 정해두고 나중에 필요할 때 생성해서 꺼내 쓸 수 있다."
      ]
    },
    {
      "cell_type": "markdown",
      "metadata": {
        "id": "WVoTgKBVedlh"
      },
      "source": [
        "## divmod()"
      ]
    },
    {
      "cell_type": "markdown",
      "metadata": {
        "id": "ydbbzBniehne"
      },
      "source": [
        "몫과 나머지를 동시에 구한다."
      ]
    },
    {
      "cell_type": "code",
      "metadata": {
        "colab": {
          "base_uri": "https://localhost:8080/"
        },
        "id": "ksfAggl-dkNx",
        "outputId": "b0fa2214-8a24-4bc4-c38d-46e394b18b85"
      },
      "source": [
        "divmod(5, 3) "
      ],
      "execution_count": 7,
      "outputs": [
        {
          "output_type": "execute_result",
          "data": {
            "text/plain": [
              "(1, 2)"
            ]
          },
          "metadata": {},
          "execution_count": 7
        }
      ]
    },
    {
      "cell_type": "markdown",
      "metadata": {
        "id": "KFGFo73lendw"
      },
      "source": [
        "## print"
      ]
    },
    {
      "cell_type": "code",
      "metadata": {
        "colab": {
          "base_uri": "https://localhost:8080/"
        },
        "id": "U36hgxBBfL0n",
        "outputId": "aed51779-6bfc-4d8b-f521-7ca1bdb5c5ab"
      },
      "source": [
        "# sep\n",
        "print('A1','A2', sep = ',')"
      ],
      "execution_count": 9,
      "outputs": [
        {
          "output_type": "stream",
          "name": "stdout",
          "text": [
            "A1,A2\n"
          ]
        }
      ]
    },
    {
      "cell_type": "code",
      "metadata": {
        "colab": {
          "base_uri": "https://localhost:8080/"
        },
        "id": "Tvz_b1tEfSmS",
        "outputId": "7b480cb7-ee86-4d03-dc91-418934b2d59f"
      },
      "source": [
        "# join\n",
        "a = ['A','B','C']\n",
        "print(' ', a)"
      ],
      "execution_count": 10,
      "outputs": [
        {
          "output_type": "stream",
          "name": "stdout",
          "text": [
            "  ['A', 'B', 'C']\n"
          ]
        }
      ]
    },
    {
      "cell_type": "code",
      "metadata": {
        "colab": {
          "base_uri": "https://localhost:8080/"
        },
        "id": "zpZp8O1FfZhw",
        "outputId": "4f0e3e96-10fc-4cc9-ae59-593013af0df8"
      },
      "source": [
        "# format\n",
        "idx = 1\n",
        "fruit = \"Apple\"\n",
        "print('{0}: {1}'.format(idx+1, fruit))\n",
        "print('{}: {}'.format(idx+1, fruit)) # 인덱스 생략"
      ],
      "execution_count": 13,
      "outputs": [
        {
          "output_type": "stream",
          "name": "stdout",
          "text": [
            "2: Apple\n",
            "2: Apple\n"
          ]
        }
      ]
    },
    {
      "cell_type": "code",
      "metadata": {
        "colab": {
          "base_uri": "https://localhost:8080/"
        },
        "id": "uDfnztK-frsw",
        "outputId": "e2e62ff6-d11a-4a80-fe17-c8870ee37fbf"
      },
      "source": [
        "# f-string\n",
        "print(f'{idx+1}: {fruit}')"
      ],
      "execution_count": 15,
      "outputs": [
        {
          "output_type": "stream",
          "name": "stdout",
          "text": [
            "2: Apple\n"
          ]
        }
      ]
    },
    {
      "cell_type": "markdown",
      "metadata": {
        "id": "rMs7M5nHgBAB"
      },
      "source": [
        "## pass"
      ]
    },
    {
      "cell_type": "markdown",
      "metadata": {
        "id": "Rr_62EZ-gC_L"
      },
      "source": [
        "코드의 골격을 잡고 이후에 마무리하겠다는 의도"
      ]
    },
    {
      "cell_type": "code",
      "metadata": {
        "id": "_AR6CUEUf8mM"
      },
      "source": [
        "class MyClass(object):\n",
        "  def method_a(self):\n",
        "    pass  # NULL Operation\n",
        "  def method_b(self):\n",
        "    print(\"Method B\")\n",
        "c = MyClass()"
      ],
      "execution_count": 17,
      "outputs": []
    },
    {
      "cell_type": "markdown",
      "metadata": {
        "id": "Tlq5SG2Lh9iN"
      },
      "source": [
        "## locals  \n",
        "- 로컬 심볼 테이블 딕셔너리를 가져오는 메소드로 업데이트 또한 가능하다.  \n",
        "- 로컬에 선언된 모든 변수를 조회할 수 있다. -> 디버깅에 많은 도움이 된다.\n",
        "- 로컬 스코프에 제한해 정보를 조회해 잘못 선언한 부분이 없는지 확인하는 용도로 활용할 수 있다."
      ]
    },
    {
      "cell_type": "code",
      "metadata": {
        "id": "3jEgdw7nh5rd"
      },
      "source": [
        "# pprint로 출력하면 줄바꿈 처리가 되기 때문에 가독성이 높다.\n",
        "import pprint\n",
        "pprint.pprint(locals())"
      ],
      "execution_count": null,
      "outputs": []
    }
  ]
}