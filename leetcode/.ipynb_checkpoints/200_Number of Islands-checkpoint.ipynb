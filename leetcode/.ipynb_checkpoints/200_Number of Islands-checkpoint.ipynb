{
 "cells": [
  {
   "cell_type": "markdown",
   "id": "4af8a4bf",
   "metadata": {},
   "source": [
    "# 200. Number of Islands"
   ]
  },
  {
   "cell_type": "markdown",
   "id": "922e232b",
   "metadata": {},
   "source": [
    "0(바다)과 1(육지)로 이루어진 맵을 주고 섬의 개수를 세는 문제  \n",
    "링크 : [LeetCode](https://leetcode.com/problems/number-of-islands)  \n",
    "유형 : 그래프 이론"
   ]
  },
  {
   "cell_type": "markdown",
   "id": "0db03736",
   "metadata": {},
   "source": [
    "## 접근 1. BFS"
   ]
  },
  {
   "cell_type": "code",
   "execution_count": 2,
   "id": "df5607d7",
   "metadata": {},
   "outputs": [],
   "source": [
    "from collections import deque\n",
    "from typing import List\n",
    "class Solution:\n",
    "    \n",
    "    def numIslands(self, grid: List[List[str]]) -> int:\n",
    "        cnt = 0\n",
    "        m, n = len(grid), len(grid[0])\n",
    "        dx = [0,0,1,-1]\n",
    "        dy = [1,-1,0,0]\n",
    "        for i in range(m):\n",
    "            for j in range(n):\n",
    "                if grid[i][j] == '1':\n",
    "                    cnt += 1\n",
    "                    q = deque([(i,j)])\n",
    "\n",
    "                    while q:\n",
    "                        x, y = q.popleft()\n",
    "\n",
    "                        for k in range(4):\n",
    "                            nx = x + dx[k]\n",
    "                            ny = y + dy[k]\n",
    "                            if nx <0 or ny < 0 or nx >= m or ny >=n:\n",
    "                                continue\n",
    "                            if grid[nx][ny] == '0':\n",
    "                                continue\n",
    "                            if grid[nx][ny] == '1':\n",
    "                                q.append((nx, ny))\n",
    "                                grid[nx][ny] = '0'\n",
    "        return cnt"
   ]
  },
  {
   "cell_type": "markdown",
   "id": "ff0dd49d",
   "metadata": {},
   "source": [
    "|Time Submitted|Runtime|Memory|Language|\n",
    "|--------------|-------|------|--------|\n",
    "|06/12/2022 20:34|304 ms|16.2 MB|python3|"
   ]
  },
  {
   "cell_type": "markdown",
   "id": "7948e3df",
   "metadata": {},
   "source": [
    "## 접근 2. DFS"
   ]
  },
  {
   "cell_type": "code",
   "execution_count": 19,
   "id": "fa098930",
   "metadata": {},
   "outputs": [],
   "source": [
    "from collections import deque\n",
    "class Solution:\n",
    "    def DFS(self, grid, x, y):\n",
    "        \n",
    "        if x < 0 or y <0 or x >= len(grid) or y >= len(grid[0]):\n",
    "            return\n",
    "        if grid[x][y] == '1':\n",
    "            grid[x][y] = '0'\n",
    "            self.DFS(grid, x+1, y)\n",
    "            self.DFS(grid, x, y-1)\n",
    "            self.DFS(grid, x-1, y)\n",
    "            self.DFS(grid, x, y+1)\n",
    "\n",
    "    def numIslands(self, grid: List[List[str]]) -> int:\n",
    "        cnt = 0\n",
    "        for i in range(len(grid)):\n",
    "            for j in range(len(grid[0])):\n",
    "                if grid[i][j] == '1':\n",
    "                    cnt += 1\n",
    "                    self.DFS(grid, i, j)\n",
    "        return cnt\n",
    "            \n",
    "        "
   ]
  },
  {
   "cell_type": "markdown",
   "id": "39b666a0",
   "metadata": {},
   "source": [
    "|Time Submitted|Runtime|Memory|Language|\n",
    "|--------------|-------|------|--------|\n",
    "|06/12/2022 21:04|367 ms|16.4 MB|python3|"
   ]
  },
  {
   "cell_type": "markdown",
   "id": "75a63bf9",
   "metadata": {},
   "source": [
    "중첩 함수를 사용해 코드를 더 깔끔하게 정리 할 수 있다.  \n",
    "- self. 구문을 제거 할 수 있고 DFS에서 grid를 input받는 부분도 정리 할 수 있다.  \n",
    "- 부모함수에서 선언한 변수도 유효한 범위 내에서 사용할 수 있다."
   ]
  },
  {
   "cell_type": "code",
   "execution_count": 20,
   "id": "ec7d0e67",
   "metadata": {},
   "outputs": [],
   "source": [
    "from collections import deque\n",
    "class Solution:\n",
    "\n",
    "    def numIslands(self, grid: List[List[str]]) -> int:\n",
    "        def DFS(x, y):\n",
    "            if x < 0 or y <0 or x >= len(grid) or y >= len(grid[0]):\n",
    "                return\n",
    "            if grid[x][y] == '1':\n",
    "                grid[x][y] = '0'\n",
    "                DFS(grid, x+1, y)\n",
    "                DFS(grid, x, y-1)\n",
    "                DFS(grid, x-1, y)\n",
    "                DFS(grid, x, y+1)\n",
    "            \n",
    "        cnt = 0\n",
    "        for i in range(len(grid)):\n",
    "            for j in range(len(grid[0])):\n",
    "                if grid[i][j] == '1':\n",
    "                    cnt += 1\n",
    "                    DFS(grid, i, j)\n",
    "        return cnt\n",
    "            "
   ]
  },
  {
   "cell_type": "markdown",
   "id": "ba610f1d",
   "metadata": {},
   "source": [
    "`주의` : numIslands() 함수안에서만 DFS() 함수 호출 가능."
   ]
  }
 ],
 "metadata": {
  "kernelspec": {
   "display_name": "minho",
   "language": "python",
   "name": "python3"
  },
  "language_info": {
   "codemirror_mode": {
    "name": "ipython",
    "version": 3
   },
   "file_extension": ".py",
   "mimetype": "text/x-python",
   "name": "python",
   "nbconvert_exporter": "python",
   "pygments_lexer": "ipython3",
   "version": "3.10.8 | packaged by conda-forge | (main, Nov 22 2022, 08:25:29) [Clang 14.0.6 ]"
  },
  "vscode": {
   "interpreter": {
    "hash": "bba27e808d717e173753b2d88dd30346c4690dfa54ad134d04f89ed541f34921"
   }
  }
 },
 "nbformat": 4,
 "nbformat_minor": 5
}
